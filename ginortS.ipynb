{
 "cells": [
  {
   "cell_type": "markdown",
   "metadata": {},
   "source": [
    "Your task is to sort the string  in the following manner:\n",
    "\n",
    "All sorted lowercase letters are ahead of uppercase letters.\n",
    "\n",
    "All sorted uppercase letters are ahead of digits.\n",
    "\n",
    "All sorted odd digits are ahead of sorted even digits."
   ]
  },
  {
   "cell_type": "code",
   "execution_count": 1,
   "metadata": {},
   "outputs": [],
   "source": [
    "string = \"ThisIsAString12345678\""
   ]
  },
  {
   "cell_type": "code",
   "execution_count": 41,
   "metadata": {},
   "outputs": [],
   "source": [
    "def sorting(string):\n",
    "    \n",
    "    # Sort newString into four parts\n",
    "    lowerCase = \"\"\n",
    "    upperCase = \"\"\n",
    "    odds = \"\"\n",
    "    evens = \"\"\n",
    "\n",
    "    # Logic to find what the alphanumeric values are\n",
    "    for i in string:\n",
    "        if i.islower() == True:\n",
    "            lowerCase += i\n",
    "        elif i.isupper() == True:\n",
    "            upperCase += i\n",
    "        elif float(i) % 2 == 1:\n",
    "            odds += i\n",
    "        else:\n",
    "            evens += i\n",
    "    \n",
    "    # Sort the new Strings\n",
    "    lowerCase = sorted(lowerCase)\n",
    "    upperCase = sorted(upperCase)\n",
    "    odds = sorted(odds)\n",
    "    evens = sorted(evens)\n",
    "    \n",
    "    # Final Strings\n",
    "    lcString = \"\"\n",
    "    ucString = \"\"\n",
    "    oddString = \"\"\n",
    "    evenString = \"\"\n",
    "    \n",
    "    # Iteration\n",
    "    for x in lowerCase:\n",
    "        lcString += x\n",
    "    for y in upperCase:\n",
    "        ucString += y\n",
    "    for z in odds:\n",
    "        oddString += z\n",
    "    for a in evens:\n",
    "        evenString += a\n",
    "    \n",
    "    # Concatenate New Strings\n",
    "    newString = lcString + ucString + oddString + evenString\n",
    "    \n",
    "    # Print final string\n",
    "    print(newString)"
   ]
  },
  {
   "cell_type": "code",
   "execution_count": 42,
   "metadata": {},
   "outputs": [
    {
     "name": "stdout",
     "output_type": "stream",
     "text": [
      "ginortS1324\n"
     ]
    }
   ],
   "source": [
    "sorting(\"Sorting1234\")"
   ]
  },
  {
   "cell_type": "code",
   "execution_count": null,
   "metadata": {},
   "outputs": [],
   "source": []
  }
 ],
 "metadata": {
  "kernelspec": {
   "display_name": "Python 3",
   "language": "python",
   "name": "python3"
  },
  "language_info": {
   "codemirror_mode": {
    "name": "ipython",
    "version": 3
   },
   "file_extension": ".py",
   "mimetype": "text/x-python",
   "name": "python",
   "nbconvert_exporter": "python",
   "pygments_lexer": "ipython3",
   "version": "3.8.5"
  }
 },
 "nbformat": 4,
 "nbformat_minor": 4
}
