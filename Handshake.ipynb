{
 "cells": [
  {
   "cell_type": "code",
   "execution_count": 4,
   "metadata": {},
   "outputs": [
    {
     "name": "stdout",
     "output_type": "stream",
     "text": [
      "0\n",
      "1\n",
      "3\n",
      "6\n",
      "10\n"
     ]
    }
   ],
   "source": [
    "n = 5\n",
    "totShakes = 0\n",
    "\n",
    "for x in range(n):\n",
    "    totShakes += x\n",
    "    print(totShakes)"
   ]
  },
  {
   "cell_type": "code",
   "execution_count": null,
   "metadata": {},
   "outputs": [],
   "source": [
    "# My solution on HackerRank\n",
    "\n",
    "import os\n",
    "import sys\n",
    "\n",
    "def handshake(n):\n",
    "    \n",
    "    totShakes = 0\n",
    "    \n",
    "    if n <= 1:\n",
    "        return 0\n",
    "    \n",
    "    for x in range(n):\n",
    "        totShakes += x\n",
    "        \n",
    "    return totShakes\n",
    "\n",
    "if __name__ == '__main__':\n",
    "    fptr = open(os.environ['OUTPUT_PATH'], 'w')\n",
    "\n",
    "    t = int(input())\n",
    "\n",
    "    for t_itr in range(t):\n",
    "        n = int(input())\n",
    "\n",
    "        result = handshake(n)\n",
    "\n",
    "        fptr.write(str(result) + '\\n')\n",
    "\n",
    "    fptr.close()\n"
   ]
  }
 ],
 "metadata": {
  "kernelspec": {
   "display_name": "Python 3",
   "language": "python",
   "name": "python3"
  },
  "language_info": {
   "codemirror_mode": {
    "name": "ipython",
    "version": 3
   },
   "file_extension": ".py",
   "mimetype": "text/x-python",
   "name": "python",
   "nbconvert_exporter": "python",
   "pygments_lexer": "ipython3",
   "version": "3.8.5"
  }
 },
 "nbformat": 4,
 "nbformat_minor": 4
}
