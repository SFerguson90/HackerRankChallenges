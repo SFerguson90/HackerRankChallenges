{
 "cells": [
  {
   "cell_type": "code",
   "execution_count": null,
   "metadata": {},
   "outputs": [],
   "source": [
    "#Math - First Problem\n",
    "\n",
    "import os\n",
    "import sys\n",
    "\n",
    "def findPoint(px, py, qx, qy):\n",
    "    \n",
    "    drx = qx - px\n",
    "    dry = qy - py\n",
    "    \n",
    "    rx = drx + qx\n",
    "    ry = dry + qy\n",
    "    \n",
    "    return rx, ry\n",
    "\n",
    "if __name__ == '__main__':\n",
    "    fptr = open(os.environ['OUTPUT_PATH'], 'w')\n",
    "\n",
    "    n = int(input())\n",
    "\n",
    "    for n_itr in range(n):\n",
    "        pxPyQxQy = input().split()\n",
    "\n",
    "        px = int(pxPyQxQy[0])\n",
    "\n",
    "        py = int(pxPyQxQy[1])\n",
    "\n",
    "        qx = int(pxPyQxQy[2])\n",
    "\n",
    "        qy = int(pxPyQxQy[3])\n",
    "\n",
    "        result = findPoint(px, py, qx, qy)\n",
    "\n",
    "        fptr.write(' '.join(map(str, result)))\n",
    "        fptr.write('\\n')\n",
    "\n",
    "    fptr.close()\n"
   ]
  }
 ],
 "metadata": {
  "kernelspec": {
   "display_name": "Python 3",
   "language": "python",
   "name": "python3"
  },
  "language_info": {
   "codemirror_mode": {
    "name": "ipython",
    "version": 3
   },
   "file_extension": ".py",
   "mimetype": "text/x-python",
   "name": "python",
   "nbconvert_exporter": "python",
   "pygments_lexer": "ipython3",
   "version": "3.8.5"
  }
 },
 "nbformat": 4,
 "nbformat_minor": 4
}
