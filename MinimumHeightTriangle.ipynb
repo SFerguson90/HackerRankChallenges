{
 "cells": [
  {
   "cell_type": "code",
   "execution_count": 3,
   "metadata": {},
   "outputs": [],
   "source": [
    "# This uses the wrong \"round() function answer\"\n",
    "# which only passed 12 of 18 test cases.\n",
    "\n",
    "def lowestTriangle(base, area):\n",
    "    \n",
    "    height = (2*area) / base\n",
    "    \n",
    "    return round(height)"
   ]
  },
  {
   "cell_type": "code",
   "execution_count": 4,
   "metadata": {},
   "outputs": [
    {
     "data": {
      "text/plain": [
       "12"
      ]
     },
     "execution_count": 4,
     "metadata": {},
     "output_type": "execute_result"
    }
   ],
   "source": [
    "lowestTriangle(17,100)"
   ]
  },
  {
   "cell_type": "code",
   "execution_count": null,
   "metadata": {},
   "outputs": [],
   "source": [
    "# Final answer.\n",
    "# Problems: the round() function rounds values of .5 towards an even int\n",
    "# so .5 is round up for positive values and down for neg values--\n",
    "\n",
    "\n",
    "# so using math.ceil was crucial to solving this.\n",
    "\n",
    "import sys\n",
    "import math\n",
    "\n",
    "def lowestTriangle(base, area):\n",
    "    \n",
    "    height = (2*area) / base\n",
    "    \n",
    "    return math.ceil(height)\n",
    "\n",
    "base, area = input().strip().split(' ')\n",
    "base, area = [int(base), int(area)]\n",
    "height = lowestTriangle(base, area)\n",
    "print(height)"
   ]
  }
 ],
 "metadata": {
  "kernelspec": {
   "display_name": "Python 3",
   "language": "python",
   "name": "python3"
  },
  "language_info": {
   "codemirror_mode": {
    "name": "ipython",
    "version": 3
   },
   "file_extension": ".py",
   "mimetype": "text/x-python",
   "name": "python",
   "nbconvert_exporter": "python",
   "pygments_lexer": "ipython3",
   "version": "3.8.5"
  }
 },
 "nbformat": 4,
 "nbformat_minor": 4
}
