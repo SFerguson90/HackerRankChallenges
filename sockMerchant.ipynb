{
 "cells": [
  {
   "cell_type": "code",
   "execution_count": 266,
   "metadata": {},
   "outputs": [],
   "source": [
    "ar = [1,2,3,4,1,2,3,4,1,2,3,4,5,5,4,4,3,2,1,2,3]\n",
    "n = len(ar)"
   ]
  },
  {
   "cell_type": "code",
   "execution_count": 267,
   "metadata": {},
   "outputs": [
    {
     "name": "stdout",
     "output_type": "stream",
     "text": [
      "[1, 1, 1, 1, 2, 2, 2, 2, 2, 3, 3, 3, 3, 3, 4, 4, 4, 4, 4, 5, 5]\n",
      "21\n"
     ]
    }
   ],
   "source": [
    "ar = sorted(ar)\n",
    "print(ar)\n",
    "print(n)"
   ]
  },
  {
   "cell_type": "code",
   "execution_count": 268,
   "metadata": {},
   "outputs": [],
   "source": [
    "numCount = 0\n",
    "i=0\n",
    "\n",
    "for sock in ar:\n",
    "    try:\n",
    "        if ar[i] == ar[i+1]:\n",
    "            numCount += 1\n",
    "            i = i + 2\n",
    "        else:\n",
    "            i+=1\n",
    "    except IndexError:\n",
    "        pass\n",
    "            \n",
    "# Constantly getting index errors. Let's look into Counter method."
   ]
  },
  {
   "cell_type": "code",
   "execution_count": 270,
   "metadata": {},
   "outputs": [
    {
     "name": "stdout",
     "output_type": "stream",
     "text": [
      "9\n"
     ]
    }
   ],
   "source": [
    "print(numCount)"
   ]
  },
  {
   "cell_type": "code",
   "execution_count": 262,
   "metadata": {},
   "outputs": [],
   "source": [
    "for sock in ar:\n",
    "    try:\n",
    "        if ar[i] == ar[i+1]:\n",
    "            numCount += 1\n",
    "            i = i + 2\n",
    "        else:\n",
    "            i+=1\n",
    "    except IndexError:\n",
    "        pass"
   ]
  },
  {
   "cell_type": "code",
   "execution_count": null,
   "metadata": {},
   "outputs": [],
   "source": [
    "# Final Solution to Problem\n",
    "\n",
    "import math\n",
    "import os\n",
    "import random\n",
    "import re\n",
    "import sys\n",
    "\n",
    "# Complete the sockMerchant function below.\n",
    "def sockMerchant(n, ar):\n",
    "    \n",
    "    # Sort Array\n",
    "    ar = sorted(ar)\n",
    "    \n",
    "    # Init Pointer & Counter\n",
    "    numCount = 0\n",
    "    i=0\n",
    "    \n",
    "    # Loop through \"Socks\", Prevent Index Error \n",
    "    for sock in ar:\n",
    "        try:\n",
    "            if ar[i] == ar[i+1]:\n",
    "                numCount += 1\n",
    "                i = i + 2\n",
    "            else:\n",
    "                i+=1\n",
    "        except IndexError:\n",
    "            return numCount\n",
    "\n",
    "if __name__ == '__main__':\n",
    "    fptr = open(os.environ['OUTPUT_PATH'], 'w')\n",
    "\n",
    "    n = int(input())\n",
    "\n",
    "    ar = list(map(int, input().rstrip().split()))\n",
    "\n",
    "    result = sockMerchant(n, ar)\n",
    "\n",
    "    fptr.write(str(result) + '\\n')\n",
    "\n",
    "    fptr.close()\n"
   ]
  }
 ],
 "metadata": {
  "kernelspec": {
   "display_name": "Python 3",
   "language": "python",
   "name": "python3"
  },
  "language_info": {
   "codemirror_mode": {
    "name": "ipython",
    "version": 3
   },
   "file_extension": ".py",
   "mimetype": "text/x-python",
   "name": "python",
   "nbconvert_exporter": "python",
   "pygments_lexer": "ipython3",
   "version": "3.8.5"
  }
 },
 "nbformat": 4,
 "nbformat_minor": 4
}
